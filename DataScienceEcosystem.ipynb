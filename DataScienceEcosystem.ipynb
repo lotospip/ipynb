{
 "cells": [
  {
   "cell_type": "markdown",
   "id": "789a5e1b",
   "metadata": {},
   "source": [
    "# Data Science Tools and Ecosystem"
   ]
  },
  {
   "cell_type": "markdown",
   "id": "0919cb75",
   "metadata": {},
   "source": [
    "### In this notebook, Data Science Tools and Ecosystem are summarized."
   ]
  },
  {
   "cell_type": "markdown",
   "id": "20e5762f",
   "metadata": {},
   "source": [
    "## Objectives:\n",
    "\n",
    "  * List popular languages for Data Science\n",
    "  * Commonly used libraries used by Data Scientists\n",
    "  * Cell with a table of Data Science tools\n",
    "  * Introducing arithmetic expression examples\n",
    "  * Convert minutes to hours"
   ]
  },
  {
   "cell_type": "markdown",
   "id": "1b0fb532",
   "metadata": {},
   "source": [
    "### Some of the popular languages that Data Scientists use are:\n",
    "\n",
    "1. Python\n",
    "2. R\n",
    "3. Scala\n",
    "4. SQL (Structured Query Language)\n",
    "5. Java"
   ]
  },
  {
   "cell_type": "markdown",
   "id": "a5c43494",
   "metadata": {},
   "source": [
    "### Some of the commonly used libraries used by Data Scientists include:\n",
    "1. __Scientifics Computing Libraries in Python:__\n",
    "  * __Pandas__ (Data stuctures & tools)\n",
    "  * __NumPy__ (Arrays & matrices)\n",
    "2. __Visualisation Libraries in Python:__\n",
    "  * __Matplotlib__ (plots & graphs, most popular)\n",
    "  * __Seaborn__ (plots: heat maps, time series, violin plots)\n",
    "3. __High-Level-Machine Learning and Deep Learning:__\n",
    "  * __Scikit-learn__ (Machine Learning: regression, classification, clustering)\n",
    "  * __Keras__ (Deep Lerning Neural Networks)\n",
    "4. __Deep Learning in Python:__\n",
    "  * __TensorFlow__ (Deep Lerning: Production and Deployment)\n",
    "  * __PyTorch__ (Deep Lerning: regression, classification)\n",
    "5. __Libraries used in other languages__"
   ]
  },
  {
   "cell_type": "markdown",
   "id": "1dd3bbe3",
   "metadata": {},
   "source": [
    "| Data Science Tools |\n",
    "|:------------------ |\n",
    "|Jupyter Notebooks|\n",
    "|Apache Zeppelin|\n",
    "|RStudio| "
   ]
  },
  {
   "cell_type": "markdown",
   "id": "89db2741",
   "metadata": {},
   "source": [
    "### Below are a few examples of evaluating arithmetic expressions in Python\n",
    "\n",
    "* 10 + 20  # Addition\n",
    "* 50 - 30  # Subtraction\n",
    "* 15 * 2  # Multiplication\n",
    "* 30 / 5  # Division\n"
   ]
  },
  {
   "cell_type": "code",
   "execution_count": 17,
   "id": "0ee24c17",
   "metadata": {},
   "outputs": [
    {
     "name": "stdout",
     "output_type": "stream",
     "text": [
      "17\n"
     ]
    }
   ],
   "source": [
    "# This a simple arithmetic expression to mutiply then add integers\n",
    "print((3*4)+5) # 12 + 5 = 17"
   ]
  },
  {
   "cell_type": "code",
   "execution_count": 16,
   "id": "a619fe89",
   "metadata": {},
   "outputs": [
    {
     "name": "stdout",
     "output_type": "stream",
     "text": [
      "200 minutes is equal to 3 hours and 20 minutes\n"
     ]
    }
   ],
   "source": [
    "# This will convert 200 minutes to hours by diving by 60\n",
    "# Define the number of minutes\n",
    "minutes = 200\n",
    "\n",
    "# Calculate the equivalent in hours\n",
    "hours = minutes / 60\n",
    "\n",
    "# Calculate the remaining minutes\n",
    "remaining_minutes = minutes % 60\n",
    "\n",
    "# Print the result in hours and minutes\n",
    "print(f\"{minutes} minutes is equal to {hours:.0f} hours and {remaining_minutes:.0f} minutes\")\n"
   ]
  },
  {
   "cell_type": "markdown",
   "id": "bae58b27",
   "metadata": {},
   "source": [
    "## Author\n",
    "\n",
    "Pavlo Silikov"
   ]
  }
 ],
 "metadata": {
  "kernelspec": {
   "display_name": "Python 3 (ipykernel)",
   "language": "python",
   "name": "python3"
  },
  "language_info": {
   "codemirror_mode": {
    "name": "ipython",
    "version": 3
   },
   "file_extension": ".py",
   "mimetype": "text/x-python",
   "name": "python",
   "nbconvert_exporter": "python",
   "pygments_lexer": "ipython3",
   "version": "3.11.5"
  }
 },
 "nbformat": 4,
 "nbformat_minor": 5
}
